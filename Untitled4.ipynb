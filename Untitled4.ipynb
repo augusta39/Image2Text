{
 "cells": [
  {
   "cell_type": "code",
   "execution_count": 59,
   "metadata": {},
   "outputs": [],
   "source": [
    "import numpy as np\n",
    "import cv2\n",
    "import pytesseract\n",
    "import skimage.color\n",
    "import skimage.filters\n",
    "pytesseract.pytesseract.tesseract_cmd='C:\\\\Program Files\\\\Tesseract-OCR\\\\tesseract.exe'"
   ]
  },
  {
   "cell_type": "code",
   "execution_count": 60,
   "metadata": {},
   "outputs": [
    {
     "name": "stdout",
     "output_type": "stream",
     "text": [
      "REGN. NO : DL2CAT9109%\"\n",
      "\n",
      "REGN DT: 21/07/2015 CHINO : MA3ETDE1S00218363\n",
      "OSNO 01 ENO : 7567094\n",
      "COLOUR GLISTENINGGREY MFR MARUTI SUZUKI INDIA LTD\n",
      "VEH CL : Motor Car\n",
      "NAME ANOOP SURESH DHAWALE '\n",
      "\n",
      "SMWID OF : SURESH HARISHCHANDRA DHAWALE\n",
      "\\ / 7} ADDRESS : 72 SHRI BADRINATH APPTTPLOT NO-18\n",
      "\n",
      " \n",
      "\n",
      "Sve SEC-4 DWARKA NEW DELHI, South West,\n",
      "\n",
      "Dethi-110075\n",
      "\n",
      "MODEL MARUTI CELERIO VXI GREEN\n",
      "\n",
      "BODY RIGID (PASSENGER CAR)\n",
      "\n",
      "WHEEL BASE - 002425 NOOFCYL 20.) agg——\n",
      "\n",
      "MFG DT 07/2015 UNLADEN WT : 000915\" gu\n",
      "\n",
      "FUEL PETROLICNG SEATING C 005\n",
      "\n",
      "REGD UPTO = 20/07/2030 STANDING C 00 Sioumne.\n",
      "\n",
      "TAXUPTO = OTT cucae coosse 26} N20\n"
     ]
    },
    {
     "data": {
      "text/plain": [
       "1"
      ]
     },
     "execution_count": 60,
     "metadata": {},
     "output_type": "execute_result"
    }
   ],
   "source": [
    "# Read the image and convert it into grayscale\n",
    "img=cv2.imread('txt_mudit_b11_12.jpg',cv2.IMREAD_GRAYSCALE )\n",
    "# Simple thresholding done to binarize the image\n",
    "ret, thresh = cv2.threshold(img, 120, 255, cv2.THRESH_TOZERO)\n",
    "# A text file is created and flushed \n",
    "file = open(\"recognized.txt\", \"w+\") \n",
    "file.write(\"\") \n",
    "file.close() \n",
    "# Open the file in append mode \n",
    "file = open(\"recognized.txt\", \"a\") \n",
    "#OCR being performed using tesseract\n",
    "text_e=pytesseract.image_to_string(thresh)\n",
    "print(text_e)\n",
    "# Appending the text into file \n",
    "file.write(text_e) \n",
    "file.write(\"\\n\") \n"
   ]
  },
  {
   "cell_type": "code",
   "execution_count": null,
   "metadata": {},
   "outputs": [],
   "source": []
  },
  {
   "cell_type": "code",
   "execution_count": null,
   "metadata": {},
   "outputs": [],
   "source": []
  }
 ],
 "metadata": {
  "kernelspec": {
   "display_name": "Python 3",
   "language": "python",
   "name": "python3"
  },
  "language_info": {
   "codemirror_mode": {
    "name": "ipython",
    "version": 3
   },
   "file_extension": ".py",
   "mimetype": "text/x-python",
   "name": "python",
   "nbconvert_exporter": "python",
   "pygments_lexer": "ipython3",
   "version": "3.7.3"
  }
 },
 "nbformat": 4,
 "nbformat_minor": 2
}
